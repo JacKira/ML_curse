{
 "cells": [
  {
   "cell_type": "markdown",
   "metadata": {
    "id": "QlGmxMR0AC89"
   },
   "source": [
    "В данном практическом задании предлагается решить задачу бинарной классификации с помощью 2-х методов:\n",
    "\n",
    "\n",
    "*   логистической регрессии;\n",
    "*   метода k ближайших соседей.\n",
    "\n",
    "В ходе решения разделите выборку на обучающую и проверочную.\n",
    "\n",
    "Постройте распределение выборки по классам в виде графиков.\n",
    "\n",
    "Для каждого классификатора расчитайте:\n",
    "* долю верных ответов\n",
    "* матрицу ошибок\n",
    "* точность, полноту и F-меру\n",
    "\n",
    "Постройте следующие графики:\n",
    "* PR кривые для 2-х алгоритмов на одном графике;\n",
    "* ROC кривые для 2-х алгоритмов на одном графике.\n",
    "\n",
    "В легенде графиков отразите:\n",
    "* Average Precision для PR кривой\n",
    "* ROC-AUC для ROC кривой.\n",
    "\n",
    "В конце сделайте выводы об предлагаемом алгоритме и порогах его работы.\n"
   ]
  },
  {
   "cell_type": "markdown",
   "metadata": {
    "id": "7bPWnwb8BVAG"
   },
   "source": [
    "Ниже сгенерирован набор данных для задачи бинарной классификации"
   ]
  },
  {
   "cell_type": "code",
   "execution_count": 1,
   "metadata": {},
   "outputs": [
    {
     "name": "stdout",
     "output_type": "stream",
     "text": [
      "Populating the interactive namespace from numpy and matplotlib\n"
     ]
    }
   ],
   "source": [
    "import pandas as pd\n",
    "import numpy as np\n",
    "import matplotlib.pyplot as plt\n",
    "%pylab inline"
   ]
  },
  {
   "cell_type": "code",
   "execution_count": 2,
   "metadata": {
    "id": "ezTlIMiq_9wG"
   },
   "outputs": [],
   "source": [
    "from sklearn.datasets import make_classification\n",
    "\n",
    "X, y = make_classification(\n",
    "    n_samples = 1000,\n",
    "    n_features = 2,\n",
    "    n_informative = 2,\n",
    "    n_redundant = 0,\n",
    "    n_repeated = 0,\n",
    "    n_classes = 2,\n",
    "    n_clusters_per_class = 1,\n",
    "    weights = (0.15, 0.85),\n",
    "    class_sep = 6.0,\n",
    "    hypercube = False,\n",
    "    random_state = 2,\n",
    ")"
   ]
  },
  {
   "cell_type": "code",
   "execution_count": 3,
   "metadata": {
    "id": "dxDxr-CSCPE1"
   },
   "outputs": [
    {
     "data": {
      "text/plain": [
       "array([[ 1.78642154, -0.08708982],\n",
       "       [ 1.93935655,  1.53715877],\n",
       "       [ 0.81080629, -0.9968092 ],\n",
       "       ...,\n",
       "       [ 3.48114095, -0.65262286],\n",
       "       [ 1.64616115,  0.31820271],\n",
       "       [ 0.91429268,  1.28637434]])"
      ]
     },
     "execution_count": 3,
     "metadata": {},
     "output_type": "execute_result"
    }
   ],
   "source": [
    "X"
   ]
  },
  {
   "cell_type": "code",
   "execution_count": 4,
   "metadata": {
    "scrolled": true
   },
   "outputs": [
    {
     "data": {
      "text/plain": [
       "array([1, 1, 0, 1, 0, 0, 0, 1, 0, 0, 1, 1, 1, 1, 1, 1, 1, 1, 1, 1, 1, 1,\n",
       "       1, 1, 1, 0, 0, 1, 1, 1, 1, 1, 1, 1, 0, 0, 1, 1, 1, 1, 0, 1, 1, 1,\n",
       "       1, 1, 1, 1, 1, 1, 1, 1, 1, 1, 1, 1, 1, 1, 1, 1, 1, 1, 1, 0, 1, 0,\n",
       "       1, 1, 1, 0, 0, 0, 1, 1, 0, 1, 1, 0, 1, 1, 1, 0, 1, 0, 0, 1, 0, 1,\n",
       "       1, 1, 1, 1, 1, 1, 0, 1, 1, 1, 0, 1, 0, 1, 1, 1, 1, 1, 1, 1, 1, 0,\n",
       "       1, 1, 1, 1, 1, 1, 1, 1, 1, 0, 1, 1, 1, 1, 0, 1, 1, 1, 1, 1, 1, 1,\n",
       "       1, 1, 1, 1, 1, 1, 1, 1, 1, 0, 1, 1, 1, 0, 0, 1, 1, 0, 0, 1, 1, 1,\n",
       "       1, 1, 1, 1, 1, 1, 1, 1, 1, 1, 1, 1, 1, 1, 0, 1, 1, 1, 1, 1, 1, 1,\n",
       "       1, 1, 1, 0, 1, 1, 1, 0, 1, 1, 1, 1, 1, 1, 1, 1, 1, 0, 1, 0, 0, 1,\n",
       "       1, 1, 1, 1, 1, 1, 1, 0, 1, 1, 1, 1, 1, 1, 1, 1, 1, 1, 1, 1, 1, 1,\n",
       "       0, 1, 0, 1, 1, 1, 1, 1, 1, 1, 1, 1, 1, 1, 1, 1, 1, 1, 1, 1, 1, 1,\n",
       "       1, 0, 1, 1, 0, 1, 0, 1, 0, 1, 1, 1, 1, 0, 1, 1, 1, 0, 1, 1, 1, 1,\n",
       "       0, 1, 1, 1, 1, 0, 0, 1, 1, 1, 1, 1, 1, 1, 1, 1, 1, 1, 1, 1, 0, 1,\n",
       "       1, 1, 1, 1, 0, 0, 1, 1, 1, 1, 1, 1, 1, 1, 1, 1, 1, 1, 1, 1, 1, 1,\n",
       "       1, 1, 1, 0, 1, 1, 1, 0, 1, 1, 1, 1, 1, 0, 1, 1, 1, 1, 1, 1, 0, 1,\n",
       "       1, 1, 1, 1, 1, 1, 1, 1, 1, 1, 1, 1, 1, 1, 1, 1, 1, 1, 1, 1, 1, 1,\n",
       "       1, 1, 1, 1, 1, 1, 0, 1, 1, 1, 1, 1, 1, 1, 1, 1, 1, 1, 1, 1, 1, 1,\n",
       "       1, 1, 0, 1, 1, 1, 1, 1, 1, 1, 1, 1, 1, 1, 1, 1, 1, 0, 1, 1, 1, 0,\n",
       "       0, 0, 0, 1, 1, 1, 1, 1, 1, 1, 1, 1, 0, 1, 1, 1, 1, 1, 1, 1, 1, 1,\n",
       "       0, 1, 1, 1, 0, 1, 1, 1, 1, 1, 1, 1, 1, 1, 1, 1, 1, 1, 1, 0, 1, 1,\n",
       "       1, 1, 1, 0, 1, 0, 1, 1, 1, 1, 1, 1, 1, 0, 1, 0, 1, 0, 1, 1, 1, 0,\n",
       "       0, 1, 1, 1, 0, 1, 1, 1, 1, 1, 1, 0, 0, 1, 1, 1, 1, 1, 1, 1, 0, 1,\n",
       "       1, 1, 1, 1, 1, 0, 1, 1, 0, 1, 1, 1, 1, 1, 1, 0, 1, 1, 1, 0, 1, 1,\n",
       "       1, 0, 1, 1, 1, 1, 0, 0, 1, 1, 1, 1, 1, 1, 0, 1, 1, 1, 1, 1, 0, 0,\n",
       "       1, 1, 1, 1, 1, 0, 1, 1, 0, 1, 0, 1, 1, 1, 1, 0, 1, 1, 1, 1, 1, 1,\n",
       "       1, 1, 1, 1, 1, 0, 0, 1, 1, 1, 1, 1, 1, 1, 1, 1, 1, 1, 1, 1, 1, 1,\n",
       "       1, 1, 1, 1, 1, 1, 1, 1, 1, 1, 0, 1, 1, 1, 1, 1, 0, 1, 1, 1, 1, 1,\n",
       "       1, 0, 1, 0, 0, 1, 0, 1, 1, 1, 1, 1, 1, 1, 1, 1, 1, 0, 1, 1, 1, 1,\n",
       "       1, 1, 1, 1, 1, 1, 1, 1, 1, 1, 1, 0, 1, 1, 1, 1, 1, 1, 1, 1, 1, 1,\n",
       "       1, 1, 1, 1, 1, 0, 1, 1, 1, 1, 0, 0, 1, 0, 1, 1, 1, 1, 1, 1, 1, 1,\n",
       "       1, 1, 1, 1, 1, 1, 1, 1, 0, 1, 1, 0, 1, 1, 1, 1, 1, 0, 0, 1, 1, 1,\n",
       "       1, 1, 0, 1, 1, 0, 1, 1, 1, 1, 1, 1, 0, 1, 1, 1, 1, 0, 1, 1, 1, 1,\n",
       "       1, 1, 1, 1, 1, 1, 1, 1, 1, 1, 1, 1, 1, 1, 1, 1, 1, 1, 1, 1, 1, 0,\n",
       "       1, 1, 1, 0, 1, 1, 1, 1, 1, 1, 1, 1, 1, 1, 1, 1, 0, 1, 0, 1, 1, 1,\n",
       "       1, 1, 1, 1, 0, 1, 1, 1, 1, 1, 1, 1, 1, 0, 0, 1, 1, 1, 1, 1, 1, 0,\n",
       "       1, 1, 1, 1, 1, 0, 1, 1, 1, 1, 1, 1, 1, 1, 1, 1, 1, 0, 1, 1, 1, 1,\n",
       "       1, 1, 1, 1, 1, 1, 1, 1, 1, 1, 1, 1, 1, 1, 1, 1, 1, 1, 1, 1, 1, 0,\n",
       "       1, 1, 1, 1, 0, 1, 1, 1, 1, 0, 1, 0, 1, 1, 1, 1, 0, 1, 1, 1, 0, 1,\n",
       "       1, 0, 1, 1, 1, 1, 0, 0, 1, 1, 1, 1, 1, 1, 0, 1, 1, 1, 1, 1, 1, 1,\n",
       "       1, 1, 1, 1, 1, 0, 0, 1, 1, 1, 1, 0, 1, 1, 1, 1, 1, 1, 1, 1, 1, 1,\n",
       "       1, 1, 0, 1, 0, 0, 1, 1, 1, 1, 1, 1, 1, 1, 1, 1, 1, 1, 0, 1, 1, 1,\n",
       "       1, 1, 1, 1, 1, 0, 1, 1, 1, 1, 0, 1, 1, 1, 1, 1, 1, 1, 1, 1, 0, 0,\n",
       "       1, 0, 1, 1, 1, 1, 1, 1, 0, 0, 1, 1, 1, 1, 1, 1, 1, 1, 1, 1, 1, 1,\n",
       "       1, 1, 1, 1, 1, 1, 1, 1, 1, 1, 1, 1, 1, 1, 1, 1, 1, 0, 1, 1, 1, 1,\n",
       "       1, 1, 1, 1, 0, 1, 1, 1, 1, 1, 1, 1, 1, 1, 1, 0, 1, 1, 1, 1, 0, 1,\n",
       "       1, 1, 0, 1, 1, 1, 1, 1, 1, 1])"
      ]
     },
     "execution_count": 4,
     "metadata": {},
     "output_type": "execute_result"
    }
   ],
   "source": [
    "y"
   ]
  },
  {
   "cell_type": "code",
   "execution_count": 5,
   "metadata": {},
   "outputs": [],
   "source": [
    "y = pd.DataFrame(y)"
   ]
  },
  {
   "cell_type": "code",
   "execution_count": 6,
   "metadata": {},
   "outputs": [],
   "source": [
    "df = pd.DataFrame(X, columns = ['x1', 'x2'])"
   ]
  },
  {
   "cell_type": "code",
   "execution_count": 7,
   "metadata": {},
   "outputs": [],
   "source": [
    "df['Y'] = y\n",
    "X = pd.DataFrame(X, columns = ['x1', 'x2'])\n",
    "X[\"1\"] = np.ones(len(X))"
   ]
  },
  {
   "cell_type": "code",
   "execution_count": 8,
   "metadata": {},
   "outputs": [
    {
     "data": {
      "text/html": [
       "<div>\n",
       "<style scoped>\n",
       "    .dataframe tbody tr th:only-of-type {\n",
       "        vertical-align: middle;\n",
       "    }\n",
       "\n",
       "    .dataframe tbody tr th {\n",
       "        vertical-align: top;\n",
       "    }\n",
       "\n",
       "    .dataframe thead th {\n",
       "        text-align: right;\n",
       "    }\n",
       "</style>\n",
       "<table border=\"1\" class=\"dataframe\">\n",
       "  <thead>\n",
       "    <tr style=\"text-align: right;\">\n",
       "      <th></th>\n",
       "      <th>x1</th>\n",
       "      <th>x2</th>\n",
       "      <th>1</th>\n",
       "    </tr>\n",
       "  </thead>\n",
       "  <tbody>\n",
       "    <tr>\n",
       "      <th>0</th>\n",
       "      <td>1.786422</td>\n",
       "      <td>-0.087090</td>\n",
       "      <td>1.0</td>\n",
       "    </tr>\n",
       "    <tr>\n",
       "      <th>1</th>\n",
       "      <td>1.939357</td>\n",
       "      <td>1.537159</td>\n",
       "      <td>1.0</td>\n",
       "    </tr>\n",
       "    <tr>\n",
       "      <th>2</th>\n",
       "      <td>0.810806</td>\n",
       "      <td>-0.996809</td>\n",
       "      <td>1.0</td>\n",
       "    </tr>\n",
       "    <tr>\n",
       "      <th>3</th>\n",
       "      <td>0.189179</td>\n",
       "      <td>0.474802</td>\n",
       "      <td>1.0</td>\n",
       "    </tr>\n",
       "    <tr>\n",
       "      <th>4</th>\n",
       "      <td>3.299366</td>\n",
       "      <td>-0.193288</td>\n",
       "      <td>1.0</td>\n",
       "    </tr>\n",
       "    <tr>\n",
       "      <th>...</th>\n",
       "      <td>...</td>\n",
       "      <td>...</td>\n",
       "      <td>...</td>\n",
       "    </tr>\n",
       "    <tr>\n",
       "      <th>995</th>\n",
       "      <td>0.201365</td>\n",
       "      <td>0.487992</td>\n",
       "      <td>1.0</td>\n",
       "    </tr>\n",
       "    <tr>\n",
       "      <th>996</th>\n",
       "      <td>0.699713</td>\n",
       "      <td>0.557117</td>\n",
       "      <td>1.0</td>\n",
       "    </tr>\n",
       "    <tr>\n",
       "      <th>997</th>\n",
       "      <td>3.481141</td>\n",
       "      <td>-0.652623</td>\n",
       "      <td>1.0</td>\n",
       "    </tr>\n",
       "    <tr>\n",
       "      <th>998</th>\n",
       "      <td>1.646161</td>\n",
       "      <td>0.318203</td>\n",
       "      <td>1.0</td>\n",
       "    </tr>\n",
       "    <tr>\n",
       "      <th>999</th>\n",
       "      <td>0.914293</td>\n",
       "      <td>1.286374</td>\n",
       "      <td>1.0</td>\n",
       "    </tr>\n",
       "  </tbody>\n",
       "</table>\n",
       "<p>1000 rows × 3 columns</p>\n",
       "</div>"
      ],
      "text/plain": [
       "           x1        x2    1\n",
       "0    1.786422 -0.087090  1.0\n",
       "1    1.939357  1.537159  1.0\n",
       "2    0.810806 -0.996809  1.0\n",
       "3    0.189179  0.474802  1.0\n",
       "4    3.299366 -0.193288  1.0\n",
       "..        ...       ...  ...\n",
       "995  0.201365  0.487992  1.0\n",
       "996  0.699713  0.557117  1.0\n",
       "997  3.481141 -0.652623  1.0\n",
       "998  1.646161  0.318203  1.0\n",
       "999  0.914293  1.286374  1.0\n",
       "\n",
       "[1000 rows x 3 columns]"
      ]
     },
     "execution_count": 8,
     "metadata": {},
     "output_type": "execute_result"
    }
   ],
   "source": [
    "X"
   ]
  },
  {
   "cell_type": "code",
   "execution_count": 9,
   "metadata": {},
   "outputs": [
    {
     "data": {
      "text/html": [
       "<div>\n",
       "<style scoped>\n",
       "    .dataframe tbody tr th:only-of-type {\n",
       "        vertical-align: middle;\n",
       "    }\n",
       "\n",
       "    .dataframe tbody tr th {\n",
       "        vertical-align: top;\n",
       "    }\n",
       "\n",
       "    .dataframe thead th {\n",
       "        text-align: right;\n",
       "    }\n",
       "</style>\n",
       "<table border=\"1\" class=\"dataframe\">\n",
       "  <thead>\n",
       "    <tr style=\"text-align: right;\">\n",
       "      <th></th>\n",
       "      <th>x1</th>\n",
       "      <th>x2</th>\n",
       "      <th>Y</th>\n",
       "    </tr>\n",
       "  </thead>\n",
       "  <tbody>\n",
       "    <tr>\n",
       "      <th>0</th>\n",
       "      <td>1.786422</td>\n",
       "      <td>-0.087090</td>\n",
       "      <td>1</td>\n",
       "    </tr>\n",
       "    <tr>\n",
       "      <th>1</th>\n",
       "      <td>1.939357</td>\n",
       "      <td>1.537159</td>\n",
       "      <td>1</td>\n",
       "    </tr>\n",
       "    <tr>\n",
       "      <th>2</th>\n",
       "      <td>0.810806</td>\n",
       "      <td>-0.996809</td>\n",
       "      <td>0</td>\n",
       "    </tr>\n",
       "    <tr>\n",
       "      <th>3</th>\n",
       "      <td>0.189179</td>\n",
       "      <td>0.474802</td>\n",
       "      <td>1</td>\n",
       "    </tr>\n",
       "    <tr>\n",
       "      <th>4</th>\n",
       "      <td>3.299366</td>\n",
       "      <td>-0.193288</td>\n",
       "      <td>0</td>\n",
       "    </tr>\n",
       "    <tr>\n",
       "      <th>...</th>\n",
       "      <td>...</td>\n",
       "      <td>...</td>\n",
       "      <td>...</td>\n",
       "    </tr>\n",
       "    <tr>\n",
       "      <th>995</th>\n",
       "      <td>0.201365</td>\n",
       "      <td>0.487992</td>\n",
       "      <td>1</td>\n",
       "    </tr>\n",
       "    <tr>\n",
       "      <th>996</th>\n",
       "      <td>0.699713</td>\n",
       "      <td>0.557117</td>\n",
       "      <td>1</td>\n",
       "    </tr>\n",
       "    <tr>\n",
       "      <th>997</th>\n",
       "      <td>3.481141</td>\n",
       "      <td>-0.652623</td>\n",
       "      <td>1</td>\n",
       "    </tr>\n",
       "    <tr>\n",
       "      <th>998</th>\n",
       "      <td>1.646161</td>\n",
       "      <td>0.318203</td>\n",
       "      <td>1</td>\n",
       "    </tr>\n",
       "    <tr>\n",
       "      <th>999</th>\n",
       "      <td>0.914293</td>\n",
       "      <td>1.286374</td>\n",
       "      <td>1</td>\n",
       "    </tr>\n",
       "  </tbody>\n",
       "</table>\n",
       "<p>1000 rows × 3 columns</p>\n",
       "</div>"
      ],
      "text/plain": [
       "           x1        x2  Y\n",
       "0    1.786422 -0.087090  1\n",
       "1    1.939357  1.537159  1\n",
       "2    0.810806 -0.996809  0\n",
       "3    0.189179  0.474802  1\n",
       "4    3.299366 -0.193288  0\n",
       "..        ...       ... ..\n",
       "995  0.201365  0.487992  1\n",
       "996  0.699713  0.557117  1\n",
       "997  3.481141 -0.652623  1\n",
       "998  1.646161  0.318203  1\n",
       "999  0.914293  1.286374  1\n",
       "\n",
       "[1000 rows x 3 columns]"
      ]
     },
     "execution_count": 9,
     "metadata": {},
     "output_type": "execute_result"
    }
   ],
   "source": [
    "df"
   ]
  },
  {
   "cell_type": "code",
   "execution_count": 10,
   "metadata": {
    "scrolled": true
   },
   "outputs": [
    {
     "data": {
      "image/png": "[encoded data removed]",
      "text/plain": [
       "<Figure size 432x288 with 2 Axes>"
      ]
     },
     "metadata": {
      "needs_background": "light"
     },
     "output_type": "display_data"
    }
   ],
   "source": [
    "df.plot.scatter(x = 'x1', y= 'x2', c='Y', colormap='gist_rainbow');"
   ]
  },
  {
   "cell_type": "markdown",
   "metadata": {},
   "source": [
    "Заметно явное преобладание второго класса"
   ]
  },
  {
   "cell_type": "code",
   "execution_count": 11,
   "metadata": {},
   "outputs": [],
   "source": [
    "RANDOM_SEED = 0"
   ]
  },
  {
   "cell_type": "code",
   "execution_count": 12,
   "metadata": {},
   "outputs": [],
   "source": [
    "from sklearn.model_selection import train_test_split\n",
    "\n",
    "X_train, X_test, y_train, y_test = train_test_split(\n",
    "    X, y,\n",
    "    test_size=0.3,\n",
    "    random_state=RANDOM_SEED,\n",
    ")"
   ]
  },
  {
   "cell_type": "markdown",
   "metadata": {},
   "source": [
    "# Логистическая регрессия"
   ]
  },
  {
   "cell_type": "code",
   "execution_count": 13,
   "metadata": {},
   "outputs": [
    {
     "name": "stderr",
     "output_type": "stream",
     "text": [
      "F:\\Anaconda3\\lib\\site-packages\\sklearn\\utils\\validation.py:760: DataConversionWarning: A column-vector y was passed when a 1d array was expected. Please change the shape of y to (n_samples, ), for example using ravel().\n",
      "  y = column_or_1d(y, warn=True)\n"
     ]
    }
   ],
   "source": [
    "from sklearn.linear_model import LogisticRegression\n",
    "\n",
    "logreg_clf = LogisticRegression(random_state=RANDOM_SEED).fit(X_train, y_train)"
   ]
  },
  {
   "cell_type": "markdown",
   "metadata": {},
   "source": [
    "# Модель ближайших соседей "
   ]
  },
  {
   "cell_type": "code",
   "execution_count": 14,
   "metadata": {},
   "outputs": [
    {
     "name": "stderr",
     "output_type": "stream",
     "text": [
      "F:\\Anaconda3\\lib\\site-packages\\ipykernel_launcher.py:3: DataConversionWarning: A column-vector y was passed when a 1d array was expected. Please change the shape of y to (n_samples, ), for example using ravel().\n",
      "  This is separate from the ipykernel package so we can avoid doing imports until\n"
     ]
    }
   ],
   "source": [
    "from sklearn.neighbors import KNeighborsClassifier\n",
    "\n",
    "knn_clf = KNeighborsClassifier(n_neighbors=5).fit(X_train, y_train)"
   ]
  },
  {
   "cell_type": "markdown",
   "metadata": {},
   "source": [
    "# Метрики качества"
   ]
  },
  {
   "cell_type": "code",
   "execution_count": 15,
   "metadata": {},
   "outputs": [
    {
     "name": "stdout",
     "output_type": "stream",
     "text": [
      "LogReg accuracy = 0.9167\n",
      "kNN accuracy = 0.9100\n"
     ]
    }
   ],
   "source": [
    "from sklearn.metrics import accuracy_score\n",
    "\n",
    "logreg_y_pred = logreg_clf.predict(X_test)\n",
    "logreg_acc = accuracy_score(y_test, logreg_y_pred)\n",
    "\n",
    "knn_y_pred = knn_clf.predict(X_test)\n",
    "knn_acc = accuracy_score(y_test, knn_y_pred)\n",
    "\n",
    "print(\"LogReg accuracy = {:.4f}\".format(logreg_acc))\n",
    "print(\"kNN accuracy = {:.4f}\".format(knn_acc))"
   ]
  },
  {
   "cell_type": "markdown",
   "metadata": {},
   "source": [
    "# Построим матрицу ошибок"
   ]
  },
  {
   "cell_type": "code",
   "execution_count": 16,
   "metadata": {},
   "outputs": [
    {
     "data": {
      "image/png": "[encoded data removed]",
      "text/plain": [
       "<Figure size 432x288 with 2 Axes>"
      ]
     },
     "metadata": {
      "needs_background": "light"
     },
     "output_type": "display_data"
    }
   ],
   "source": [
    "from sklearn.metrics import plot_confusion_matrix\n",
    "\n",
    "plot_confusion_matrix(logreg_clf, X_test, y_test, cmap=plt.cm.Blues, labels=[1, 0]);"
   ]
  },
  {
   "cell_type": "markdown",
   "metadata": {},
   "source": [
    "# Точность и полнота"
   ]
  },
  {
   "cell_type": "code",
   "execution_count": 17,
   "metadata": {},
   "outputs": [
    {
     "name": "stdout",
     "output_type": "stream",
     "text": [
      "LogReg precision = 0.9328\n",
      "LogReg recall = 0.9728\n",
      "\n",
      "kNN precision = 0.9356\n",
      "kNN recall = 0.9611\n"
     ]
    }
   ],
   "source": [
    "from sklearn.metrics import precision_score, recall_score\n",
    "\n",
    "logreg_precision = precision_score(y_test, logreg_y_pred)\n",
    "logreg_recall = recall_score(y_test, logreg_y_pred)\n",
    "\n",
    "knn_precision = precision_score(y_test, knn_y_pred)\n",
    "knn_recall = recall_score(y_test, knn_y_pred)\n",
    "\n",
    "print(\"LogReg precision = {:.4f}\".format(logreg_precision))\n",
    "print(\"LogReg recall = {:.4f}\".format(logreg_recall))\n",
    "print(\"\")\n",
    "print(\"kNN precision = {:.4f}\".format(knn_precision))\n",
    "print(\"kNN recall = {:.4f}\".format(knn_recall))"
   ]
  },
  {
   "cell_type": "markdown",
   "metadata": {},
   "source": [
    "# F - мера"
   ]
  },
  {
   "cell_type": "code",
   "execution_count": 18,
   "metadata": {},
   "outputs": [
    {
     "name": "stdout",
     "output_type": "stream",
     "text": [
      "LogReg F1 = 0.9524\n",
      "kNN F1 = 0.9482\n"
     ]
    }
   ],
   "source": [
    "from sklearn.metrics import f1_score\n",
    "\n",
    "logreg_f1 = f1_score(y_test, logreg_y_pred)\n",
    "knn_f1 = f1_score(y_test, knn_y_pred)\n",
    "\n",
    "print(\"LogReg F1 = {:.4f}\".format(logreg_f1))\n",
    "print(\"kNN F1 = {:.4f}\".format(knn_f1))"
   ]
  },
  {
   "cell_type": "markdown",
   "metadata": {},
   "source": [
    "# PR кривая"
   ]
  },
  {
   "cell_type": "code",
   "execution_count": 19,
   "metadata": {},
   "outputs": [
    {
     "data": {
      "image/png": "[encoded data removed]",
      "text/plain": [
       "<Figure size 432x288 with 1 Axes>"
      ]
     },
     "metadata": {
      "needs_background": "light"
     },
     "output_type": "display_data"
    }
   ],
   "source": [
    "from sklearn.metrics import plot_precision_recall_curve\n",
    "\n",
    "logreg_y_proba = logreg_clf.predict_proba(X_test)[:, 1]\n",
    "\n",
    "disp = plot_precision_recall_curve(logreg_clf, X_test, y_test)\n",
    "disp.ax_.set_ylim((0, 1.1))\n",
    "disp.ax_.set_xlim((0, 1));\n"
   ]
  },
  {
   "cell_type": "code",
   "execution_count": 20,
   "metadata": {},
   "outputs": [
    {
     "data": {
      "image/png": "[encoded data removed]",
      "text/plain": [
       "<Figure size 432x288 with 1 Axes>"
      ]
     },
     "metadata": {
      "needs_background": "light"
     },
     "output_type": "display_data"
    }
   ],
   "source": [
    "disp = plot_precision_recall_curve(knn_clf, X_test, y_test)\n",
    "knn_y_proba = knn_clf.predict_proba(X_test)[:, 1]\n",
    "disp.ax_.set_ylim((0, 1.1))\n",
    "disp.ax_.set_xlim((0, 1));"
   ]
  },
  {
   "cell_type": "markdown",
   "metadata": {},
   "source": [
    "# ROC кривая"
   ]
  },
  {
   "cell_type": "code",
   "execution_count": 21,
   "metadata": {},
   "outputs": [
    {
     "data": {
      "image/png": "[encoded data removed]",
      "text/plain": [
       "<Figure size 432x288 with 1 Axes>"
      ]
     },
     "metadata": {
      "needs_background": "light"
     },
     "output_type": "display_data"
    }
   ],
   "source": [
    "from sklearn.metrics import plot_roc_curve\n",
    "\n",
    "disp = plot_roc_curve(logreg_clf, X_test, y_test)\n",
    "disp.ax_.plot([0, 1], [0, 1], 'k--');"
   ]
  },
  {
   "cell_type": "code",
   "execution_count": 22,
   "metadata": {},
   "outputs": [
    {
     "data": {
      "image/png": "[encoded data removed]",
      "text/plain": [
       "<Figure size 432x288 with 1 Axes>"
      ]
     },
     "metadata": {
      "needs_background": "light"
     },
     "output_type": "display_data"
    }
   ],
   "source": [
    "disp = plot_roc_curve(knn_clf, X_test, y_test)\n",
    "disp.ax_.plot([0, 1], [0, 1], 'k--');"
   ]
  },
  {
   "cell_type": "code",
   "execution_count": 23,
   "metadata": {},
   "outputs": [
    {
     "data": {
      "text/plain": [
       "<matplotlib.legend.Legend at 0x177b4f1c2c8>"
      ]
     },
     "execution_count": 23,
     "metadata": {},
     "output_type": "execute_result"
    },
    {
     "data": {
      "image/png": "[encoded data removed]",
      "text/plain": [
       "<Figure size 432x288 with 1 Axes>"
      ]
     },
     "metadata": {
      "needs_background": "light"
     },
     "output_type": "display_data"
    }
   ],
   "source": [
    "from sklearn import metrics\n",
    "fpr, tpr, thresh = metrics.roc_curve(y_test, logreg_y_proba)\n",
    "auc = metrics.roc_auc_score(y_test, logreg_y_proba)\n",
    "plt.plot(fpr,tpr,label=\"LogisticRegression, auc=\"+str(auc))\n",
    "\n",
    "fpr, tpr, thresh = metrics.roc_curve(y_test, knn_y_proba)\n",
    "auc = metrics.roc_auc_score(y_test, knn_y_proba)\n",
    "plt.plot(fpr,tpr,label=\"KNN Classifier, auc=\"+str(auc))\n",
    "plt.xlabel(\"False positive rate\")\n",
    "plt.ylabel(\"True positive rate\")\n",
    "plt.plot([[0,0], [1,1]], color = 'red', linestyle = '--')\n",
    "plt.legend(loc=0)"
   ]
  },
  {
   "cell_type": "code",
   "execution_count": 26,
   "metadata": {},
   "outputs": [
    {
     "data": {
      "text/plain": [
       "<matplotlib.legend.Legend at 0x177b4ea7608>"
      ]
     },
     "execution_count": 26,
     "metadata": {},
     "output_type": "execute_result"
    },
    {
     "data": {
      "image/png": "[encoded data removed]",
      "text/plain": [
       "<Figure size 432x288 with 1 Axes>"
      ]
     },
     "metadata": {
      "needs_background": "light"
     },
     "output_type": "display_data"
    }
   ],
   "source": [
    "#p, r = metrics.precision_recall_curve()\n",
    "pr, r, thresh_log = metrics.precision_recall_curve(y_test, logreg_y_proba)\n",
    "auc = metrics.roc_auc_score(y_test, logreg_y_proba)\n",
    "plt.plot(r, pr,label=\"LogisticRegression, auc=\"+str(auc))\n",
    "\n",
    "pr, r, thresh_knn = metrics.precision_recall_curve(y_test, knn_y_proba)\n",
    "auc = metrics.roc_auc_score(y_test, knn_y_proba)\n",
    "plt.plot(r, pr,label=\"KNN Classifier, auc=\"+str(auc))\n",
    "plt.ylabel(\"Precision\")\n",
    "plt.xlabel(\"Recall\")\n",
    "\n",
    "plt.legend(loc=0)"
   ]
  },
  {
   "cell_type": "code",
   "execution_count": 29,
   "metadata": {},
   "outputs": [
    {
     "data": {
      "text/plain": [
       "array([0.17254892, 0.17808783, 0.20046283, 0.20260041, 0.20669758,\n",
       "       0.22383201, 0.25439606, 0.27272906, 0.28488407, 0.28752156,\n",
       "       0.35422952, 0.35735462, 0.3623938 , 0.36946591, 0.38932631,\n",
       "       0.39940812, 0.401504  , 0.42156597, 0.42803692, 0.43286827,\n",
       "       0.44538932, 0.46106405, 0.46382087, 0.48752989, 0.50599035,\n",
       "       0.50754241, 0.53047735, 0.53769343, 0.54822898, 0.57297279,\n",
       "       0.57505856, 0.5957068 , 0.60620481, 0.61347818, 0.615746  ,\n",
       "       0.6278173 , 0.629993  , 0.62999824, 0.6301838 , 0.639125  ,\n",
       "       0.6474738 , 0.6509493 , 0.65939867, 0.68001458, 0.68711221,\n",
       "       0.69096832, 0.70031665, 0.72231752, 0.73394793, 0.7373116 ,\n",
       "       0.74909223, 0.75588275, 0.7620479 , 0.77756193, 0.77816498,\n",
       "       0.78743526, 0.79427424, 0.79550433, 0.79746009, 0.7983248 ,\n",
       "       0.80037598, 0.80441245, 0.80875826, 0.80937062, 0.82139579,\n",
       "       0.82281057, 0.82447132, 0.83351741, 0.83532632, 0.83816066,\n",
       "       0.8446957 , 0.84553246, 0.84707582, 0.8520197 , 0.85301376,\n",
       "       0.85309422, 0.85592493, 0.86237833, 0.86468044, 0.86612573,\n",
       "       0.86680268, 0.87090391, 0.87356033, 0.88051559, 0.88186409,\n",
       "       0.88487504, 0.88574026, 0.89484479, 0.89625377, 0.89654102,\n",
       "       0.90196677, 0.90329781, 0.90581102, 0.9121715 , 0.91242529,\n",
       "       0.91296757, 0.91475252, 0.91627909, 0.91756789, 0.91803282,\n",
       "       0.92152278, 0.9227926 , 0.92882804, 0.92920878, 0.93011772,\n",
       "       0.93135691, 0.931704  , 0.93228046, 0.93444815, 0.93644476,\n",
       "       0.9384363 , 0.93973406, 0.94116822, 0.94252102, 0.94388157,\n",
       "       0.94429742, 0.94485967, 0.94527001, 0.94564099, 0.94590901,\n",
       "       0.94599029, 0.94706125, 0.94719631, 0.94827527, 0.94909267,\n",
       "       0.95039508, 0.95214582, 0.95254571, 0.95291922, 0.95401516,\n",
       "       0.95552421, 0.95571207, 0.95600131, 0.95618608, 0.95878003,\n",
       "       0.96004942, 0.9604441 , 0.96070137, 0.96173682, 0.96409316,\n",
       "       0.96469601, 0.96500626, 0.96501664, 0.96569605, 0.96607437,\n",
       "       0.96740325, 0.96753396, 0.96793348, 0.96826361, 0.96846455,\n",
       "       0.96849596, 0.97095824, 0.97109132, 0.97178139, 0.97206551,\n",
       "       0.97222474, 0.97247475, 0.97257608, 0.97272984, 0.97292488,\n",
       "       0.97396813, 0.97467226, 0.9747968 , 0.97480246, 0.97486497,\n",
       "       0.97509971, 0.97529675, 0.97633113, 0.97646105, 0.97683174,\n",
       "       0.97696532, 0.97797908, 0.97801798, 0.97851138, 0.97946922,\n",
       "       0.97977146, 0.97989895, 0.97998552, 0.98007833, 0.9802471 ,\n",
       "       0.98069039, 0.98175308, 0.98205805, 0.98238035, 0.98260576,\n",
       "       0.98270429, 0.98303687, 0.98327737, 0.98335093, 0.98386154,\n",
       "       0.98394242, 0.98446948, 0.98482307, 0.98510829, 0.98513409,\n",
       "       0.98518466, 0.98520939, 0.985374  , 0.98591015, 0.98598674,\n",
       "       0.98609256, 0.98623904, 0.98685584, 0.98712243, 0.98714356,\n",
       "       0.98722688, 0.98745541, 0.98788492, 0.98854389, 0.98859528,\n",
       "       0.98872463, 0.98872774, 0.98924256, 0.98925818, 0.98950689,\n",
       "       0.98961185, 0.9899664 , 0.99013102, 0.99039337, 0.99050455,\n",
       "       0.99073916, 0.99097105, 0.99123725, 0.99129123, 0.99158118,\n",
       "       0.99217478, 0.99224471, 0.99229819, 0.99237055, 0.99245378,\n",
       "       0.99254387, 0.99255375, 0.99280906, 0.99312556, 0.9933935 ,\n",
       "       0.99342734, 0.9934461 , 0.99349901, 0.99352375, 0.99379572,\n",
       "       0.99379897, 0.99386229, 0.99390797, 0.99411875, 0.99426839,\n",
       "       0.99433775, 0.99442391, 0.99459572, 0.99466805, 0.99469229,\n",
       "       0.99480408, 0.99482987, 0.99490337, 0.99520994, 0.99546895,\n",
       "       0.99551508, 0.99557798, 0.99574106, 0.99595993, 0.99655874,\n",
       "       0.99662991, 0.99663148, 0.99694318, 0.99710409, 0.99713886,\n",
       "       0.99734613, 0.99756351, 0.99761604, 0.99773627, 0.99792244,\n",
       "       0.99813745, 0.99821852, 0.9985257 , 0.99881348, 0.99890176,\n",
       "       0.99896136, 0.99897098, 0.9991089 , 0.99912163, 0.99914159,\n",
       "       0.99916251, 0.99918044, 0.99927379, 0.99944849, 0.99946088,\n",
       "       0.99961965, 0.99962266, 0.99968692, 0.99975862, 0.99977609,\n",
       "       0.99982421, 0.99983519])"
      ]
     },
     "execution_count": 29,
     "metadata": {},
     "output_type": "execute_result"
    }
   ],
   "source": [
    "thresh_log"
   ]
  },
  {
   "cell_type": "code",
   "execution_count": null,
   "metadata": {},
   "outputs": [],
   "source": []
  }
 ],
 "metadata": {
  "colab": {
   "name": "Практика. Метрики качества классификации.ipynb",
   "provenance": []
  },
  "kernelspec": {
   "display_name": "Python 3",
   "language": "python",
   "name": "python3"
  },
  "language_info": {
   "codemirror_mode": {
    "name": "ipython",
    "version": 3
   },
   "file_extension": ".py",
   "mimetype": "text/x-python",
   "name": "python",
   "nbconvert_exporter": "python",
   "pygments_lexer": "ipython3",
   "version": "3.7.6"
  }
 },
 "nbformat": 4,
 "nbformat_minor": 1
}
